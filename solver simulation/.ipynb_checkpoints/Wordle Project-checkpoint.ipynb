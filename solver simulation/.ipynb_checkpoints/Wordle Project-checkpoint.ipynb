{
 "cells": [
  {
   "cell_type": "code",
   "execution_count": null,
   "id": "ec60b312-d5f5-49ea-bc9e-7d97fab3a00a",
   "metadata": {},
   "outputs": [],
   "source": []
  },
  {
   "cell_type": "code",
   "execution_count": 2,
   "id": "50f1aa71-d99b-4161-adb7-a0508f2e96f8",
   "metadata": {},
   "outputs": [
    {
     "data": {
      "text/plain": [
       "4"
      ]
     },
     "execution_count": 2,
     "metadata": {},
     "output_type": "execute_result"
    }
   ],
   "source": [
    "arr = [1,2,3,4]\n",
    "arr.index(2)\n",
    "len(arr)"
   ]
  },
  {
   "cell_type": "code",
   "execution_count": 198,
   "id": "88ed0dd1-8e6a-4cb1-aa01-ee14e74eb5cd",
   "metadata": {},
   "outputs": [
    {
     "name": "stdout",
     "output_type": "stream",
     "text": [
      "Tets: 12\n"
     ]
    }
   ],
   "source": [
    "s = 12\n",
    "print(\"Tets: %d\"%s)\n",
    "    "
   ]
  },
  {
   "cell_type": "code",
   "execution_count": 196,
   "id": "a24e90dd-eb7c-4ab4-9a74-e7fba0bf5c69",
   "metadata": {},
   "outputs": [
    {
     "name": "stdout",
     "output_type": "stream",
     "text": [
      "J\n",
      "J\n"
     ]
    },
    {
     "data": {
      "text/plain": [
       "3"
      ]
     },
     "execution_count": 196,
     "metadata": {},
     "output_type": "execute_result"
    }
   ],
   "source": [
    "s = \"A prearranged meeting or assignation, now especially between lovers to meet at a specific place and time.\"\n",
    "\n",
    "for definition in definitions:\n",
    "    #find  number of lines to be drawn\n",
    "    l = len(definition)\n",
    "    number_of_lines = l//40+1\n",
    "    b = 0\n",
    "    e = l+1 if l < 41 else 41\n",
    "    print(definition)\n",
    "    for i in range(number_of_lines):\n",
    "        while e < l and definition[e] != \" \":\n",
    "            e += 1\n",
    "            if e >= l:\n",
    "                print(e)\n",
    "                break\n",
    "        temp_text = definition[b:e]\n",
    "        txt_def = definitions_font.render(temp_text, True, GREY)\n",
    "        y_indent += 20\n",
    "        game_window.blit(txt_def, (SOLVER_X, y_indent))\n",
    "        b = e\n",
    "        e += 41 if e+41 <= l else l\n",
    "\n",
    "    y_indent += 15\n"
   ]
  },
  {
   "cell_type": "code",
   "execution_count": 160,
   "id": "c28dad58-45c9-46fd-8c8f-8d080f1ab576",
   "metadata": {},
   "outputs": [
    {
     "name": "stdout",
     "output_type": "stream",
     "text": [
      "{'license': {'name': 'CC BY-SA 3.0',\n",
      "             'url': 'https://creativecommons.org/licenses/by-sa/3.0'},\n",
      " 'meanings': [{'antonyms': [],\n",
      "               'definitions': [{'antonyms': [],\n",
      "                                'definition': 'Of, pertaining to, or having '\n",
      "                                              'many pines',\n",
      "                                'example': 'a piny fragrance',\n",
      "                                'synonyms': []}],\n",
      "               'partOfSpeech': 'adjective',\n",
      "               'synonyms': []}],\n",
      " 'phonetics': [],\n",
      " 'sourceUrls': ['https://en.wiktionary.org/wiki/piney',\n",
      "                'https://en.wiktionary.org/wiki/piny'],\n",
      " 'word': 'piney'}\n"
     ]
    },
    {
     "ename": "KeyError",
     "evalue": "'phonetic'",
     "output_type": "error",
     "traceback": [
      "\u001b[0;31m---------------------------------------------------------------------------\u001b[0m",
      "\u001b[0;31mKeyError\u001b[0m                                  Traceback (most recent call last)",
      "\u001b[0;32m<ipython-input-160-89896a24c292>\u001b[0m in \u001b[0;36m<module>\u001b[0;34m\u001b[0m\n\u001b[1;32m     18\u001b[0m \u001b[0;34m\u001b[0m\u001b[0m\n\u001b[1;32m     19\u001b[0m \u001b[0mpartOfSpeech\u001b[0m \u001b[0;34m=\u001b[0m \u001b[0mdata\u001b[0m\u001b[0;34m[\u001b[0m\u001b[0;34m'meanings'\u001b[0m\u001b[0;34m]\u001b[0m\u001b[0;34m[\u001b[0m\u001b[0;36m0\u001b[0m\u001b[0;34m]\u001b[0m\u001b[0;34m[\u001b[0m\u001b[0;34m'partOfSpeech'\u001b[0m\u001b[0;34m]\u001b[0m\u001b[0;34m\u001b[0m\u001b[0;34m\u001b[0m\u001b[0m\n\u001b[0;32m---> 20\u001b[0;31m \u001b[0mphonetic\u001b[0m \u001b[0;34m=\u001b[0m \u001b[0mdata\u001b[0m\u001b[0;34m[\u001b[0m\u001b[0;34m'phonetic'\u001b[0m\u001b[0;34m]\u001b[0m\u001b[0;34m\u001b[0m\u001b[0;34m\u001b[0m\u001b[0m\n\u001b[0m\u001b[1;32m     21\u001b[0m \u001b[0;31m#source = data['sourceUrls']\u001b[0m\u001b[0;34m\u001b[0m\u001b[0;34m\u001b[0m\u001b[0;34m\u001b[0m\u001b[0m\n\u001b[1;32m     22\u001b[0m \u001b[0;34m\u001b[0m\u001b[0m\n",
      "\u001b[0;31mKeyError\u001b[0m: 'phonetic'"
     ]
    }
   ],
   "source": [
    "from requests import get\n",
    "from pprint import PrettyPrinter\n",
    "\n",
    "word = \"piney\"\n",
    "\n",
    "url = f\"https://api.dictionaryapi.dev/api/v2/entries/en/{word}\"\n",
    "#data = get(url).json()[0]['meanings'][0]['definitions'][0]['definition']\n",
    "\n",
    "data = get(url).json()[0]\n",
    "printer.pprint(data)\n",
    "definitions = []\n",
    "\n",
    "l = len(data['meanings'][0]['definitions'])\n",
    "for i in range(l):\n",
    "    definition = data['meanings'][0]['definitions'][i]['definition']\n",
    "    definitions.append(definition)\n",
    "#definition = data['meanings'][0]['definitions'][0]['definition']\n",
    "\n",
    "partOfSpeech = data['meanings'][0]['partOfSpeech']\n",
    "phonetic = data['phonetic']\n",
    "#source = data['sourceUrls']\n",
    "\n",
    "printer.pprint(definition)\n",
    "print(partOfSpeech)\n",
    "print(phonetic)\n",
    "for defin in definitions:\n",
    "    print(defin +'\\n')\n",
    "#print(definitions[0]+'\\n')\n",
    "#print(definitions[1]+'\\n')\n",
    "#print(definitions[2]+'\\n')\n",
    "#printer.pprint(data)"
   ]
  },
  {
   "cell_type": "code",
   "execution_count": 78,
   "id": "afe3aebe-5f0f-4762-8a58-bd8c561fbc58",
   "metadata": {},
   "outputs": [
    {
     "name": "stdout",
     "output_type": "stream",
     "text": [
      "('{bc}a {d_link|globose|globose} berry with a yellowish to reddish-orange rind '\n",
      " 'and a sweet edible pulp ')\n",
      "{bc}a {d_link|globose|globose} berry with a yellowish to reddish-orange rind and a sweet edible pulp \n"
     ]
    }
   ],
   "source": [
    "from requests import get\n",
    "from pprint import PrettyPrinter\n",
    "\n",
    "API_KEY = \"b5842c89-276e-4d58-b719-633193ddfcd2\"\n",
    "BASE_URL = \"https://www.dictionaryapi.com\"\n",
    "word = \"orange\"\n",
    "endpoint = f\"/api/v3/references/collegiate/json/{word}?key={API_KEY}\"\n",
    "\n",
    "url = BASE_URL + endpoint\n",
    "data = get(url).json()[0]['def'][0]['sseq'][0][0][1]['dt'][0][1]\n",
    "\n",
    "#print(type(data))\n",
    "#data = get_currencies()\n",
    "printer.pprint(data)\n",
    "\n",
    "print(data)"
   ]
  },
  {
   "cell_type": "code",
   "execution_count": 161,
   "id": "22d9e3c6-e1d0-4be7-8c7e-95aa0fc1a128",
   "metadata": {},
   "outputs": [],
   "source": [
    "from requests import get\n",
    "from pprint import PrettyPrinter\n",
    "\n",
    "#Here's your free API key: 4c76b738864c1cd8ac8d\n",
    "#free server https://free.currconv.com\n",
    "\n",
    "API_KEY = \"4c76b738864c1cd8ac8d\"\n",
    "BASE_URL = \"https://free.currconv.com\"\n",
    "\n",
    "#get nicely formated output for JSON. \n",
    "printer = PrettyPrinter()\n",
    "\n",
    "def get_currencies():\n",
    "    endpoint = f\"/api/v7/currencies?apiKey={API_KEY}\"\n",
    "    url = BASE_URL + endpoint\n",
    "    data = get(url).json()['results']\n",
    "\n",
    "    data = list(data.items())\n",
    "    return data\n",
    "\n",
    "data = get_currencies()\n",
    "#printer.pprint(data)\n",
    "\n"
   ]
  },
  {
   "cell_type": "code",
   "execution_count": null,
   "id": "4542b479-2786-40a4-9535-2b6c8a980da5",
   "metadata": {},
   "outputs": [],
   "source": []
  },
  {
   "cell_type": "code",
   "execution_count": null,
   "id": "ffd87e99-75a7-4387-8b01-f985b2de989a",
   "metadata": {},
   "outputs": [],
   "source": [
    "url = \"https://www.romexchange.com/\"\n",
    "\n",
    "headers = {'User-Agent': 'XY',\"Content-type\": \"application/json\"}\n",
    "r = requests.get(url, headers=headers)\n",
    "\n",
    "r.status_code"
   ]
  },
  {
   "cell_type": "code",
   "execution_count": null,
   "id": "69f5ef15-dcb4-4e3f-9825-19ce5557590d",
   "metadata": {},
   "outputs": [],
   "source": []
  },
  {
   "cell_type": "code",
   "execution_count": 1,
   "id": "5a1f8073-a380-4cb5-bfca-971806b8134e",
   "metadata": {},
   "outputs": [
    {
     "name": "stdout",
     "output_type": "stream",
     "text": [
      "3\n",
      "[1, 2, 3, 4, 5, 6, 7, 8, 9]\n"
     ]
    }
   ],
   "source": [
    "import random \n",
    "def test():\n",
    "    items = [1, 2, 3, 4, 5, 6, 7, 8, 9]\n",
    "    random_item = random.choice(items)\n",
    "    return random_item, items\n",
    "a,b = test()\n",
    "print(a)\n",
    "print(b)"
   ]
  },
  {
   "cell_type": "code",
   "execution_count": 63,
   "id": "2c12194c-1b13-4578-8413-56c8835f857c",
   "metadata": {},
   "outputs": [
    {
     "data": {
      "text/plain": [
       "False"
      ]
     },
     "execution_count": 63,
     "metadata": {},
     "output_type": "execute_result"
    }
   ],
   "source": [
    "file = open(\"answers.txt\", 'r')\n",
    "dic = file.read().split()\n",
    "\n",
    "s = ['', '', '', '', '']\n",
    "\n",
    "\"a\" in s"
   ]
  },
  {
   "cell_type": "code",
   "execution_count": 61,
   "id": "f5598c0a-1c64-40ae-9285-b648ac9c4dd0",
   "metadata": {},
   "outputs": [
    {
     "name": "stdout",
     "output_type": "stream",
     "text": [
      "H\n",
      "H\n",
      "H\n"
     ]
    }
   ],
   "source": [
    "a = [x for x in range(1,10)]\n",
    "b = [3,4]\n",
    "s = \"sss\"\n",
    "\n",
    "for l in s:\n",
    "    print(\"H\")"
   ]
  },
  {
   "cell_type": "code",
   "execution_count": 15,
   "id": "a320a638-8463-453f-9c54-337bdd63c198",
   "metadata": {},
   "outputs": [
    {
     "name": "stdout",
     "output_type": "stream",
     "text": [
      "True\n",
      "True\n",
      "True\n",
      "True\n",
      "True\n"
     ]
    }
   ],
   "source": [
    "s = \"steel\"\n",
    "\n",
    "s.count(\"s\")\n",
    "\n",
    "for l in s:\n",
    "    print(l in s)\n",
    "#\"a\" in s"
   ]
  },
  {
   "cell_type": "code",
   "execution_count": 2,
   "id": "260afb6d-f61b-4049-b1b7-c95220d41090",
   "metadata": {},
   "outputs": [
    {
     "name": "stdout",
     "output_type": "stream",
     "text": [
      "['cache']\n"
     ]
    }
   ],
   "source": [
    "dic = {'words': ['value', 'cache', 'cacao', 'racer', 'house']}\n",
    "\n",
    "string = \"value, cache, cacao, racer, house\"\n",
    "\n",
    "filt = [x for x in dic['words'] if all([x[0].upper()=='C', 'T' not in x.upper(), 'E' in x.upper()])]\n",
    "\n",
    "\n",
    "print(filt)"
   ]
  },
  {
   "cell_type": "code",
   "execution_count": 3,
   "id": "ddeb10dd-0157-43e0-8207-4490fff225a6",
   "metadata": {},
   "outputs": [
    {
     "data": {
      "text/plain": [
       "True"
      ]
     },
     "execution_count": 3,
     "metadata": {},
     "output_type": "execute_result"
    }
   ],
   "source": [
    "word = ['']*5\n",
    "word[1] += \"Test\"\n",
    "not word[2]"
   ]
  },
  {
   "cell_type": "code",
   "execution_count": 4,
   "id": "e6c51f15-61fb-4a2f-8e49-8da595e12944",
   "metadata": {},
   "outputs": [
    {
     "name": "stdout",
     "output_type": "stream",
     "text": [
      "<class 'str'>\n"
     ]
    }
   ],
   "source": [
    "import re\n",
    "file = open(\"dictionary.txt\", \"r+\")\n",
    "dic = file.read()\n",
    "\n",
    "#cond = '(?=.*y)\\w{5}\\s\\d+'\n",
    "cond = '(?=.*t)(?=.*e)(?=.*a)(?=.*l)\\w{2}[t]\\w{2}\\s\\d+'\n",
    "cond = '(?!.*t)(?!.*i)(?!.*p)(?!.*s)(?!.*y)[a-z]{5}\\s\\d+'\n",
    "\n",
    "p = re.compile(cond)\n",
    "p = p.findall(dic)\n",
    "p\n",
    "print(type(dic))\n",
    "#p[::-10]"
   ]
  },
  {
   "cell_type": "code",
   "execution_count": null,
   "id": "40856569-86a2-4859-b0eb-0f998a01a501",
   "metadata": {},
   "outputs": [],
   "source": []
  }
 ],
 "metadata": {
  "kernelspec": {
   "display_name": "Python 3",
   "language": "python",
   "name": "python3"
  },
  "language_info": {
   "codemirror_mode": {
    "name": "ipython",
    "version": 3
   },
   "file_extension": ".py",
   "mimetype": "text/x-python",
   "name": "python",
   "nbconvert_exporter": "python",
   "pygments_lexer": "ipython3",
   "version": "3.8.8"
  }
 },
 "nbformat": 4,
 "nbformat_minor": 5
}
